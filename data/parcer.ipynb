{
 "cells": [
  {
   "cell_type": "code",
   "execution_count": 23,
   "metadata": {},
   "outputs": [],
   "source": [
    "import cv2\n",
    "import numpy as np\n",
    "import os\n",
    "\n",
    "# Function to crop formula from an image based on given coordinates\n",
    "def crop_formula(image_path, coordinates, class_wanted):\n",
    "    # Load the image\n",
    "    image = cv2.imread(image_path)\n",
    "    if image is None:\n",
    "        print(\"Could not open or find the image.\")\n",
    "        return None\n",
    "    \n",
    "    x_rel, y_rel, width_rel, height_rel, class_label = coordinates\n",
    "    if class_label != class_wanted:\n",
    "        return None\n",
    "    # Get the absolute dimensions of the image\n",
    "    image_height, image_width = image.shape[:2]\n",
    "\n",
    "    # Calculate the absolute coordinates\n",
    "    x_abs = int(x_rel * image_width / 100) - 10\n",
    "    y_abs = int(y_rel * image_height / 100) - 10\n",
    "    width_abs = int(width_rel * image_width / 100) + 20\n",
    "    height_abs = int(height_rel * image_height / 100) + 20\n",
    "\n",
    "    # Crop the image\n",
    "    cropped_image = image[y_abs:y_abs + height_abs, x_abs:x_abs + width_abs]\n",
    "\n",
    "    return cropped_image\n",
    "\n",
    "def get_coordinates(file_path):\n",
    "    with open(file_path, 'r') as f:\n",
    "        coordinates_arr = []\n",
    "        for _ in range(4): f.readline()\n",
    "        for row in f:\n",
    "            coordinates_arr.append([float(i) for i in row.strip().split('\\t ')])\n",
    "    return coordinates_arr\n",
    "folders = ['Tr00', 'Tr01', 'Tr10', 'Ts00', 'Ts01', 'Ts10', 'Ts11', 'Va00', 'Va01']\n",
    "folder_cnt = 0\n",
    "for folder in folders:\n",
    "    folder_cnt += 1\n",
    "    book_cnt = 0\n",
    "    for book_num in range(310000):\n",
    "        book_num = '0' * (7 - len(str(book_num))) + str(book_num)\n",
    "        book_path = f'/Users/greg/Desktop/Education/Project/pdf2LaTeX/IBEM_dataset/{folder}/{book_num}-page01.jpg'\n",
    "        if not(os.path.exists(book_path)):\n",
    "                continue\n",
    "        book_cnt += 1\n",
    "        page_cnt = 0\n",
    "        for page_num in range(100):\n",
    "            page_num = '0' * (2 - len(str(page_num))) + str(page_num)\n",
    "    # Example coordinates and image path\n",
    "            coordinates_path = f'/Users/greg/Desktop/Education/Project/pdf2LaTeX/IBEM_dataset/{folder}/{book_num}-color_page{page_num}.txt'\n",
    "            image_path = f'/Users/greg/Desktop/Education/Project/pdf2LaTeX/IBEM_dataset/{folder}/{book_num}-page{page_num}.jpg'\n",
    "            if not(os.path.exists(image_path)):\n",
    "                continue\n",
    "            page_cnt += 1\n",
    "            # Crop the formula\n",
    "            coordinates_arr = get_coordinates(coordinates_path)\n",
    "            formula_cnt = 0\n",
    "            for coordinates in coordinates_arr:\n",
    "                formula_cnt += 1\n",
    "                cropped_formula = crop_formula(image_path, coordinates, 1)\n",
    "                # Save or display the cropped formula\n",
    "                if cropped_formula is not None:\n",
    "                    cv2.imwrite(f'dataset/{folder_cnt}_{book_cnt}_{page_cnt}_{formula_cnt}.jpg', cropped_formula)\n"
   ]
  },
  {
   "cell_type": "code",
   "execution_count": null,
   "metadata": {},
   "outputs": [],
   "source": [
    "import os\n",
    "import pandas as pd\n",
    "\n",
    "model = LatexOCR()\n",
    "\n",
    "# Path to the folder containing the JPG files\n",
    "folder_path = 'datasets/dataset_1'\n",
    "\n",
    "for i, file_name in enumerate(os.listdir(folder_path)):\n",
    "#     if file_name.endswith('.jpg'):\n",
    "    if not i % 100:\n",
    "        print(i)\n",
    "    latex_dataset_1[i] = str(model(Image.open(f'datasets/dataset_1/{file_name}')))\n",
    "\n",
    "\n",
    "latex_dataset_1.to_csv('latex_dataset_1.csv', index=False)"
   ]
  }
 ],
 "metadata": {
  "kernelspec": {
   "display_name": "Python 3",
   "language": "python",
   "name": "python3"
  },
  "language_info": {
   "codemirror_mode": {
    "name": "ipython",
    "version": 3
   },
   "file_extension": ".py",
   "mimetype": "text/x-python",
   "name": "python",
   "nbconvert_exporter": "python",
   "pygments_lexer": "ipython3",
   "version": "3.10.6 (v3.10.6:9c7b4bd164, Aug  1 2022, 17:13:48) [Clang 13.0.0 (clang-1300.0.29.30)]"
  },
  "orig_nbformat": 4,
  "vscode": {
   "interpreter": {
    "hash": "aee8b7b246df8f9039afb4144a1f6fd8d2ca17a180786b69acc140d282b71a49"
   }
  }
 },
 "nbformat": 4,
 "nbformat_minor": 2
}
